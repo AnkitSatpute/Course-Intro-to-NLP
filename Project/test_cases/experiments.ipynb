{
 "cells": [
  {
   "cell_type": "code",
   "execution_count": 7,
   "metadata": {},
   "outputs": [],
   "source": [
    "import os\n",
    "import re\n",
    "import string\n",
    "import sys"
   ]
  },
  {
   "cell_type": "code",
   "execution_count": 16,
   "metadata": {},
   "outputs": [
    {
     "name": "stdout",
     "output_type": "stream",
     "text": [
      "From a helicopter the wavewashed beach looks as if the worst oil spill in U.S. history had never touched it. Silvery sticks of driftwood poke through a deep blanket of snow and smooth gray pebbles roll in the surf under the gaze of a bald eagle perched in a shoreside spruce. But the view doesnt impress Joe Bridgman of the Alaska Department of Environmental Conservation. Dashing out as the chopper lands he digs into the cobble beach and quickly finds what he knew he would. Oil he says. Smell it The pungent odor of petroleum wafts through the air as the hole turns black with crude oil an oozing remnant of the 10.8 million gallons spilled into Prince William Sound last March 24 by the tanker Exxon Valdez. Bridgman scoops up a shovelful of gravel lugs it to the waters edge and dumps it in. A rainbow sheen of oil spreads across the water. Hundreds of gallons of oil are locked up under this beach he says. And this isnt isolated. There are hundreds of beaches all over the sound that are still oiled and the oil is slowly bleeding out. The beaches can look beautiful at the surface but you can dig down in this case just a few inches below the surface and find lots of oil. Now is that a threat or isnt it A year after the wreck of the Exxon Valdez the question clings like the oil under this Perry Island beach. Certainly the worst is over thousands of dead birds no longer wash up on shorelines as they did last summer. But assessing the continuing damage wrought by the nations most extensive  and expensive  oil spill has just begun. As a growing slick of lawyers haggles over who is to blame Exxon Corp. and government agencies debate how to clean up whats left and scientists track wildlife populations first steps on the long road to recovery. Any hope of a quick solution faded last summer as oil from the Exxon Valdez spread across 1100 miles of Alaskas wild southern coast. A cleanup army of 12000 workers polished rocks by hand blasted beaches with hot water and sprayed fertilizer to promote the growth of oileating microbes. But when Exxon suspended its 2 billion cleanup in midSeptember it had recovered only 5 percent to 9 percent of the oil spilled state officials estimate. About 20 percent to 40 percent is believed to have evaporated. That leaves 50 percent to 75 percent of the oil in the water on the ocean bottom or on beaches. Some was soaked up by unwilling sponges the seabirds eagles and sea otters whose carcasses now lie frozen in five vans in an Anchorage storage yard awaiting their day as physical evidence in court. Workers found more than 1000 dead otters a sizable chunk of the spill areas total population of 15000 to 22000. Many of Prince William Sounds 3000 bald eagles also suffered at least 151 died most poisoned by scavenging the oily remains of some of the 34400 dead seabirds recovered. Those numbers alone make the Valdez spill the most lethal ever but scientists say the actual death count is much higher estimating that up to 90 percent of the seabirds caught in oil sank from sight or drifted out to sea. Exxon notes the spill did not wipe out any species and says surviving animals and birds will rebuild populations. But that may take up to 70 years for some hardhit seabird colonies U.S. Fish and Wildlife Service researchers say. We never claimed that the spill put any animal on the endangered species list but thats missing the point said Fish and Wildlife spokesman Bruce Batten. Its still the greatest humancaused wildlife disaster that this agency knows about. Oily carcasses were an obvious measure of the spills impact but victims also included less visible members of the ecosystem such as young salmon and tiny intertidal creatures. Assessment studies for these populations are not finished and even preliminary findings are hard to come by  researchers have been told by lawyers to save their findings for court where it seems nearly everyone involved in the spill is headed. Capt. Joseph Hazelwood skipper of the Exxon Valdez is on trial this month in Anchorage on charges including criminal mischief and drunken driving of his vessel and a federal grand jury recently issued criminal indictments against Exxon starting a case that could take years to finish. Exxon already faces more than 150 civil lawsuits. Fishermen sued because of lost seasons. Tourboat operators sued because fewer people wanted to cruise an oiled sound. The state sued claiming the company was negligent in responding to the spill only to be countersued by Exxon which claimed state officials hindered the use of chemical dispersants that could have broken up large quantities of oil early on. Information about the spill is filtered through this litigious atmosphere making much of it suspect. Exxon distributes beforeandafter pictures of cleaned beaches Bridgman and other state officials accusing Exxon of mythmaking eagerly make room for journalists on flights to oiled beaches. State officials cite an October survey that showed 117 miles of shoreline remained moderately or heavily oiled with oil more than two feet deep in some spots. They say observers flying over the sound still report 15 to 20 oil sheens bleeding off beaches daily. Exxon officials meanwhile say their winter monitoring of 64 sites shows wind and waves have scoured away on average more than half the surface oil left in September and up to 80 percent of the buried oil. From a laymans point of view whats left out there is really insignificant said Exxon scientist Andy Teal.\n"
     ]
    }
   ],
   "source": [
    "DELETECHARS = ''.join([string.punctuation, string.whitespace])\n",
    "with open('source-document03029.txt', encoding='utf-8') as d1:\n",
    "    doc1 = d1.read()\n",
    "    #doc1 = re.sub('[^A-Za-z0-9\\s.]+', '', doc1)\n",
    "    print(re.sub('[^A-Za-z0-9\\s.]+', '', doc1[0:5605]))\n",
    "\n",
    "with open('suspicious-document00014.txt', encoding='utf-8') as d2:\n",
    "    doc2 = d2.read()\n",
    "    #doc2 = re.sub('[^A-Za-z0-9\\s.]+', '', doc2)\n",
    "    print(re.sub('[^A-Za-z0-9\\s.]+', '', doc2[2426:3021]))"
   ]
  },
  {
   "cell_type": "code",
   "execution_count": null,
   "metadata": {},
   "outputs": [],
   "source": []
  },
  {
   "cell_type": "code",
   "execution_count": null,
   "metadata": {},
   "outputs": [],
   "source": []
  }
 ],
 "metadata": {
  "kernelspec": {
   "display_name": "Python 3",
   "language": "python",
   "name": "python3"
  },
  "language_info": {
   "codemirror_mode": {
    "name": "ipython",
    "version": 3
   },
   "file_extension": ".py",
   "mimetype": "text/x-python",
   "name": "python",
   "nbconvert_exporter": "python",
   "pygments_lexer": "ipython3",
   "version": "3.6.9"
  }
 },
 "nbformat": 4,
 "nbformat_minor": 2
}
